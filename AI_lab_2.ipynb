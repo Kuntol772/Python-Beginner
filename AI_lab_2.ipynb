{
  "nbformat": 4,
  "nbformat_minor": 0,
  "metadata": {
    "colab": {
      "provenance": [],
      "authorship_tag": "ABX9TyNzOE0sja2LKRaAk6SuUp61",
      "include_colab_link": true
    },
    "kernelspec": {
      "name": "python3",
      "display_name": "Python 3"
    },
    "language_info": {
      "name": "python"
    }
  },
  "cells": [
    {
      "cell_type": "markdown",
      "metadata": {
        "id": "view-in-github",
        "colab_type": "text"
      },
      "source": [
        "<a href=\"https://colab.research.google.com/github/Kuntol772/Python-Beginner/blob/main/AI_lab_2.ipynb\" target=\"_parent\"><img src=\"https://colab.research.google.com/assets/colab-badge.svg\" alt=\"Open In Colab\"/></a>"
      ]
    },
    {
      "cell_type": "code",
      "execution_count": null,
      "metadata": {
        "colab": {
          "base_uri": "https://localhost:8080/"
        },
        "id": "csVf0t0EBG7q",
        "outputId": "4535cfd6-f85d-4dbe-fdf4-bc5608d3233b"
      },
      "outputs": [
        {
          "output_type": "stream",
          "name": "stdout",
          "text": [
            "[[1 2 3]\n",
            " [4 5 6]]\n",
            "<class 'numpy.ndarray'>\n",
            "2\n",
            "row 0 and collumn 1 = 2\n",
            "[4 5]\n"
          ]
        }
      ],
      "source": [
        "import numpy as np\n",
        "a=np.array([[1,2,3],[4,5,6]])\n",
        "print(a)\n",
        "print(type(a))\n",
        "print(a.ndim)\n",
        "print(\"row 0 and collumn 1 =\",a[0,1])\n",
        "print(a[1,0:2])"
      ]
    },
    {
      "cell_type": "code",
      "source": [
        "a=np.array([1,2,3,4])\n",
        "a2=np.array([[1,2,3,4],[5,6,7,8]])\n",
        "a3=np.array([[[1,2,3],[4,5,6],[7,8,9]]])\n",
        "print(a2[1,3])\n",
        "print(a3[0,2,2])"
      ],
      "metadata": {
        "colab": {
          "base_uri": "https://localhost:8080/"
        },
        "id": "H32mEXg0D23_",
        "outputId": "6cbd919f-eaf7-4393-a83c-dd17e61caa2a"
      },
      "execution_count": null,
      "outputs": [
        {
          "output_type": "stream",
          "name": "stdout",
          "text": [
            "8\n",
            "9\n"
          ]
        }
      ]
    },
    {
      "cell_type": "code",
      "source": [
        "arr = np.array([1, 2, 3, 4])\n",
        "arr1 = np.array([1.2,3,4,5])\n",
        "arr2 = np.array([\"Rohim\",\"Karim\",\"Modu\",\"Kodu\"])\n",
        "print(arr.dtype)\n",
        "print(arr1.dtype)\n",
        "print(arr2.dtype)"
      ],
      "metadata": {
        "colab": {
          "base_uri": "https://localhost:8080/"
        },
        "id": "1ZTyvMf6ISAO",
        "outputId": "7d29a034-ce4d-484f-831c-ab7aa0c95f78"
      },
      "execution_count": null,
      "outputs": [
        {
          "output_type": "stream",
          "name": "stdout",
          "text": [
            "int64\n",
            "float64\n",
            "<U5\n"
          ]
        }
      ]
    },
    {
      "cell_type": "code",
      "source": [
        "arr=np.array([1.2,4.3,3.1])\n",
        "arr1=arr.astype('i')\n",
        "arr1=arr.astype(int)\n",
        "print(arr)\n",
        "print(arr1)\n",
        "print(arr1.dtype)"
      ],
      "metadata": {
        "colab": {
          "base_uri": "https://localhost:8080/"
        },
        "id": "ovkWGGVRJX2k",
        "outputId": "e433109f-1865-4af8-dcf8-26492a421e11"
      },
      "execution_count": null,
      "outputs": [
        {
          "output_type": "stream",
          "name": "stdout",
          "text": [
            "[1.2 4.3 3.1]\n",
            "[1 4 3]\n",
            "int64\n"
          ]
        }
      ]
    },
    {
      "cell_type": "code",
      "source": [
        "arr=np.array([1,2,3,4,5])\n",
        "x=arr.copy()\n",
        "arr[0]=13\n",
        "print(arr)\n",
        "print(x)"
      ],
      "metadata": {
        "colab": {
          "base_uri": "https://localhost:8080/"
        },
        "id": "gq23NMe5KV0P",
        "outputId": "04d39da3-aa74-4eaa-c44e-665efe4f43d6"
      },
      "execution_count": null,
      "outputs": [
        {
          "output_type": "stream",
          "name": "stdout",
          "text": [
            "[13  2  3  4  5]\n",
            "[1 2 3 4 5]\n"
          ]
        }
      ]
    },
    {
      "cell_type": "code",
      "source": [
        "a3=np.array([[[1,2,3],[4,5,6],[7,8,9]]])\n",
        "print(a3.shape)"
      ],
      "metadata": {
        "colab": {
          "base_uri": "https://localhost:8080/"
        },
        "id": "GpZ_Lfv-LRWS",
        "outputId": "e3e7ce8e-3481-4818-b70b-4a0807cbf429"
      },
      "execution_count": null,
      "outputs": [
        {
          "output_type": "stream",
          "name": "stdout",
          "text": [
            "(1, 3, 3)\n"
          ]
        }
      ]
    },
    {
      "cell_type": "code",
      "source": [
        "a=np.array([1,2,3],ndmin=4)\n",
        "print(a)\n",
        "print(a.shape)"
      ],
      "metadata": {
        "colab": {
          "base_uri": "https://localhost:8080/"
        },
        "id": "afwBvpP-LseZ",
        "outputId": "5e7e376a-7b69-498b-e5fa-c9d1f134216f"
      },
      "execution_count": null,
      "outputs": [
        {
          "output_type": "stream",
          "name": "stdout",
          "text": [
            "[[[[1 2 3]]]]\n",
            "(1, 1, 1, 3)\n"
          ]
        }
      ]
    },
    {
      "cell_type": "code",
      "source": [
        "a=np.array([1,2,3,4,5,6])\n",
        "a1=a.reshape(2,3)\n",
        "print(a1)"
      ],
      "metadata": {
        "colab": {
          "base_uri": "https://localhost:8080/"
        },
        "id": "SD1LzmmOMRPL",
        "outputId": "3fdd8cef-16c8-42cd-eaa3-b169ddb70c9b"
      },
      "execution_count": null,
      "outputs": [
        {
          "output_type": "stream",
          "name": "stdout",
          "text": [
            "[[1 2 3]\n",
            " [4 5 6]]\n"
          ]
        }
      ]
    },
    {
      "cell_type": "code",
      "source": [
        "a2=np.array([[1,2,3,4],[5,6,7,8]])\n",
        "for i in a2:\n",
        "  print(i)"
      ],
      "metadata": {
        "colab": {
          "base_uri": "https://localhost:8080/"
        },
        "id": "-mTm0jOROZgN",
        "outputId": "868530e1-6e24-46c1-a71c-fcbb40c1d9da"
      },
      "execution_count": null,
      "outputs": [
        {
          "output_type": "stream",
          "name": "stdout",
          "text": [
            "[1 2 3 4]\n",
            "[5 6 7 8]\n"
          ]
        }
      ]
    },
    {
      "cell_type": "code",
      "source": [
        "a2=np.array([[1,2,3,4],[5,6,7,8]])\n",
        "for i in a2:\n",
        "  for j in i:\n",
        "    print(j)"
      ],
      "metadata": {
        "colab": {
          "base_uri": "https://localhost:8080/"
        },
        "id": "j9FV_SJLPOR6",
        "outputId": "3337d242-533c-4eef-97ed-d94d39d7c14a"
      },
      "execution_count": null,
      "outputs": [
        {
          "output_type": "stream",
          "name": "stdout",
          "text": [
            "1\n",
            "2\n",
            "3\n",
            "4\n",
            "5\n",
            "6\n",
            "7\n",
            "8\n"
          ]
        }
      ]
    },
    {
      "cell_type": "code",
      "source": [
        "a1=np.array([1,2,3,4])\n",
        "a2=np.array([5,6,7,8])\n",
        "a3=np.concatenate((a1,a2))\n",
        "print(a3)"
      ],
      "metadata": {
        "colab": {
          "base_uri": "https://localhost:8080/"
        },
        "id": "c8dM0rXbQll0",
        "outputId": "07299562-5dba-48c7-b5c6-cea641c7d6a8"
      },
      "execution_count": null,
      "outputs": [
        {
          "output_type": "stream",
          "name": "stdout",
          "text": [
            "[1 2 3 4 5 6 7 8]\n"
          ]
        }
      ]
    },
    {
      "cell_type": "code",
      "source": [
        "a2=np.array([[1,2,3],[5,6,7]])\n",
        "a3=np.array([[12,13,45],[11,14,15]])\n",
        "a=np.concatenate((a2,a3),axis=0)\n",
        "print(a)\n",
        "a=np.concatenate((a2,a3),axis=1)\n",
        "print(a)"
      ],
      "metadata": {
        "colab": {
          "base_uri": "https://localhost:8080/"
        },
        "id": "Q0240j0yRYD_",
        "outputId": "8fc2d443-02b0-4f5a-d4f4-66fa4f4721a5"
      },
      "execution_count": null,
      "outputs": [
        {
          "output_type": "stream",
          "name": "stdout",
          "text": [
            "[[ 1  2  3]\n",
            " [ 5  6  7]\n",
            " [12 13 45]\n",
            " [11 14 15]]\n",
            "[[ 1  2  3 12 13 45]\n",
            " [ 5  6  7 11 14 15]]\n"
          ]
        }
      ]
    },
    {
      "cell_type": "code",
      "source": [
        "a=np.array([1,2,3,4,5,6])\n",
        "new=np.where(a==4)\n",
        "print(new)"
      ],
      "metadata": {
        "colab": {
          "base_uri": "https://localhost:8080/"
        },
        "id": "LXF52CusSMFa",
        "outputId": "f1cab443-bff6-45e5-b8d1-5894c11ab455"
      },
      "execution_count": null,
      "outputs": [
        {
          "output_type": "stream",
          "name": "stdout",
          "text": [
            "(array([3]),)\n"
          ]
        }
      ]
    }
  ]
}