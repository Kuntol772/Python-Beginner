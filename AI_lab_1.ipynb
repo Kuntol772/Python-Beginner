{
  "nbformat": 4,
  "nbformat_minor": 0,
  "metadata": {
    "colab": {
      "provenance": []
    },
    "kernelspec": {
      "name": "python3",
      "display_name": "Python 3"
    },
    "language_info": {
      "name": "python"
    }
  },
  "cells": [
    {
      "cell_type": "code",
      "execution_count": null,
      "metadata": {
        "id": "Bdpev8cq5wYH"
      },
      "outputs": [],
      "source": [
        "lst=[\"dog\",\"cat\",\"fox\"]\n",
        "print(lst)\n",
        "print(type(lst))\n",
        "lst1=[1,2,3,4,5]\n",
        "print(lst1)"
      ]
    },
    {
      "cell_type": "code",
      "source": [
        "lst=[1.0,\"dog\",True]\n",
        "print(lst)"
      ],
      "metadata": {
        "colab": {
          "base_uri": "https://localhost:8080/"
        },
        "id": "ItzNPoBT7Ioh",
        "outputId": "07dbb308-79c2-4cc8-e566-e0a65b3a9901"
      },
      "execution_count": null,
      "outputs": [
        {
          "output_type": "stream",
          "name": "stdout",
          "text": [
            "[1.0, 'dog', True]\n"
          ]
        }
      ]
    },
    {
      "cell_type": "code",
      "source": [
        "lst=[\"cow\",12,True]\n",
        "print(lst[1])\n",
        "print(lst[-1])"
      ],
      "metadata": {
        "colab": {
          "base_uri": "https://localhost:8080/"
        },
        "id": "ah94avD07Uin",
        "outputId": "81749bec-95bb-49f2-fdbc-10408d7bdde7"
      },
      "execution_count": null,
      "outputs": [
        {
          "output_type": "stream",
          "name": "stdout",
          "text": [
            "12\n",
            "True\n"
          ]
        }
      ]
    },
    {
      "cell_type": "code",
      "source": [
        "l = [\"apple\", \"banana\", \"cherry\", \"Guava\", \"kiwi\", \"melon\", \"mango\"]\n",
        "print(l[2:5])\n",
        "print(l[-4:-1])\n",
        "l[1] = \"blackcurrant\"\n",
        "print(l)\n",
        "l.insert(2, \"watermelon\")\n",
        "print(l)\n",
        "l.append(\"orange\")\n",
        "print(l)\n",
        "tropical = [\"mango\", \"pineapple\", \"papaya\"]\n",
        "l.extend(tropical)\n",
        "print(l)\n",
        "l.pop(1)\n",
        "print(l)\n",
        "for x in l:\n",
        "  print(x)"
      ],
      "metadata": {
        "colab": {
          "base_uri": "https://localhost:8080/"
        },
        "id": "fTZc0k9s8yWW",
        "outputId": "c3b07002-189a-4c13-b3cd-05bf4f1c34e1"
      },
      "execution_count": null,
      "outputs": [
        {
          "output_type": "stream",
          "name": "stdout",
          "text": [
            "['cherry', 'Guava', 'kiwi']\n",
            "['Guava', 'kiwi', 'melon']\n",
            "['apple', 'blackcurrant', 'cherry', 'Guava', 'kiwi', 'melon', 'mango']\n",
            "['apple', 'blackcurrant', 'watermelon', 'cherry', 'Guava', 'kiwi', 'melon', 'mango']\n",
            "['apple', 'blackcurrant', 'watermelon', 'cherry', 'Guava', 'kiwi', 'melon', 'mango', 'orange']\n",
            "['apple', 'blackcurrant', 'watermelon', 'cherry', 'Guava', 'kiwi', 'melon', 'mango', 'orange', 'mango', 'pineapple', 'papaya']\n",
            "['apple', 'watermelon', 'cherry', 'Guava', 'kiwi', 'melon', 'mango', 'orange', 'mango', 'pineapple', 'papaya']\n",
            "apple\n",
            "watermelon\n",
            "cherry\n",
            "Guava\n",
            "kiwi\n",
            "melon\n",
            "mango\n",
            "orange\n",
            "mango\n",
            "pineapple\n",
            "papaya\n"
          ]
        }
      ]
    },
    {
      "cell_type": "code",
      "source": [
        "f=open(\"demo.txt\",\"r\")\n",
        "print(f.read())"
      ],
      "metadata": {
        "colab": {
          "base_uri": "https://localhost:8080/"
        },
        "id": "klf6eXAzLYSb",
        "outputId": "5dabc63d-7ba4-468c-908d-05de9b384e85"
      },
      "execution_count": null,
      "outputs": [
        {
          "output_type": "stream",
          "name": "stdout",
          "text": [
            "kuntol kumar Goswami\n"
          ]
        }
      ]
    }
  ]
}